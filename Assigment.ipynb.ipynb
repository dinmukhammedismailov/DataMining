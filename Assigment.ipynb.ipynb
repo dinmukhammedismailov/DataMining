{
 "cells": [
  {
   "cell_type": "code",
   "execution_count": 1,
   "id": "d7308e62-4de9-4f79-b694-6397d220a7ec",
   "metadata": {},
   "outputs": [
    {
     "name": "stdout",
     "output_type": "stream",
     "text": [
      "Первые 5 строк\n",
      "    Name   Age   Salary Department Joining Date\n",
      "0   John  28.0  70000.0         HR    1/15/2020\n",
      "1   Jane  34.0  80000.0    Finance    8/10/2019\n",
      "2  Alice  29.0      NaN         IT    6/25/2021\n",
      "3    Bob   NaN  50000.0  Marketing          NaN\n",
      "4    NaN  42.0  60000.0         IT   11/30/2020\n",
      "Последние 5 строк\n",
      "    Name   Age   Salary Department Joining Date\n",
      "0   John  28.0  70000.0         HR    1/15/2020\n",
      "1   Jane  34.0  80000.0    Finance    8/10/2019\n",
      "2  Alice  29.0      NaN         IT    6/25/2021\n",
      "3    Bob   NaN  50000.0  Marketing          NaN\n",
      "4    NaN  42.0  60000.0         IT   11/30/2020\n",
      "Информация\n",
      "<class 'pandas.core.frame.DataFrame'>\n",
      "RangeIndex: 5 entries, 0 to 4\n",
      "Data columns (total 5 columns):\n",
      " #   Column        Non-Null Count  Dtype  \n",
      "---  ------        --------------  -----  \n",
      " 0   Name          4 non-null      object \n",
      " 1   Age           4 non-null      float64\n",
      " 2   Salary        4 non-null      float64\n",
      " 3   Department    5 non-null      object \n",
      " 4   Joining Date  4 non-null      object \n",
      "dtypes: float64(2), object(3)\n",
      "memory usage: 332.0+ bytes\n",
      "None\n",
      "Количество  пропущенных значений\n",
      "Name            1\n",
      "Age             1\n",
      "Salary          1\n",
      "Department      0\n",
      "Joining Date    1\n",
      "dtype: int64\n",
      "Типы данных\n",
      "Name             object\n",
      "Age             float64\n",
      "Salary          float64\n",
      "Department       object\n",
      "Joining Date     object\n",
      "dtype: object\n"
     ]
    }
   ],
   "source": [
    "import pandas as pd\n",
    "df = pd.read_csv('sample_employee_data.csv')\n",
    "print(\"Первые 5 строк\")\n",
    "print(df.head()) \n",
    "print(\"Последние 5 строк\")\n",
    "print(df.tail())  \n",
    "print(\"Информация\")\n",
    "print(df.info())   \n",
    "print(\"Количество  пропущенных значений\")\n",
    "print(df.isnull().sum())\n",
    "print(\"Типы данных\")\n",
    "print(df.dtypes)"
   ]
  },
  {
   "cell_type": "code",
   "execution_count": 2,
   "id": "f0be2db3-4a89-487f-941d-8f2e765c3e29",
   "metadata": {},
   "outputs": [
    {
     "name": "stdout",
     "output_type": "stream",
     "text": [
      "Пропущенные значения в каждом столбце:\n",
      "Name            1\n",
      "Age             1\n",
      "Salary          1\n",
      "Department      0\n",
      "Joining Date    1\n",
      "dtype: int64\n"
     ]
    }
   ],
   "source": [
    "print(\"Пропущенные значения в каждом столбце:\")\n",
    "print(df.isnull().sum())"
   ]
  },
  {
   "cell_type": "code",
   "execution_count": 3,
   "id": "30fb56a6-47dc-4305-a9f9-20d14207a816",
   "metadata": {},
   "outputs": [
    {
     "name": "stdout",
     "output_type": "stream",
     "text": [
      "После удаления строк с пропущенными значениями:\n",
      "   Name   Age   Salary Department Joining Date\n",
      "0  John  28.0  70000.0         HR    1/15/2020\n",
      "1  Jane  34.0  80000.0    Finance    8/10/2019\n"
     ]
    }
   ],
   "source": [
    "# Удаление строк с пропущенными значениями\n",
    "df_dropped = df.dropna()\n",
    "print(\"После удаления строк с пропущенными значениями:\")\n",
    "print(df_dropped)"
   ]
  },
  {
   "cell_type": "code",
   "execution_count": 4,
   "id": "c39f07a9-249e-4b90-a1f9-c0d72888e049",
   "metadata": {},
   "outputs": [
    {
     "name": "stdout",
     "output_type": "stream",
     "text": [
      "После заполнения пропусков средними значениями:\n",
      "    Name    Age   Salary Department Joining Date\n",
      "0   John  28.00  70000.0         HR    1/15/2020\n",
      "1   Jane  34.00  80000.0    Finance    8/10/2019\n",
      "2  Alice  29.00  65000.0         IT    6/25/2021\n",
      "3    Bob  33.25  50000.0  Marketing          NaN\n",
      "4    NaN  42.00  60000.0         IT   11/30/2020\n"
     ]
    }
   ],
   "source": [
    "# Заполнение пропущенных значений средним\n",
    "df_filled_mean = df.fillna({'Age': df['Age'].mean(), 'Salary': df['Salary'].mean()})\n",
    "print(\"После заполнения пропусков средними значениями:\")\n",
    "print(df_filled_mean)"
   ]
  },
  {
   "cell_type": "code",
   "execution_count": 5,
   "id": "d77640ef-1e2c-4e2c-ae77-da41395dbc89",
   "metadata": {},
   "outputs": [
    {
     "name": "stdout",
     "output_type": "stream",
     "text": [
      "После прямого заполнения (ffill):\n",
      "    Name   Age   Salary Department Joining Date\n",
      "0   John  28.0  70000.0         HR    1/15/2020\n",
      "1   Jane  34.0  80000.0    Finance    8/10/2019\n",
      "2  Alice  29.0  80000.0         IT    6/25/2021\n",
      "3    Bob  29.0  50000.0  Marketing    6/25/2021\n",
      "4    Bob  42.0  60000.0         IT   11/30/2020\n"
     ]
    },
    {
     "name": "stderr",
     "output_type": "stream",
     "text": [
      "/var/folders/q3/sf8my2hn2yzczkv_4yl7rgfc0000gn/T/ipykernel_29781/2291895043.py:2: FutureWarning: DataFrame.fillna with 'method' is deprecated and will raise in a future version. Use obj.ffill() or obj.bfill() instead.\n",
      "  df_ffill = df.fillna(method='ffill')\n"
     ]
    }
   ],
   "source": [
    "# Прямое заполнение (forward fill)\n",
    "df_ffill = df.fillna(method='ffill')\n",
    "print(\"После прямого заполнения (ffill):\")\n",
    "print(df_ffill)"
   ]
  },
  {
   "cell_type": "code",
   "execution_count": 6,
   "id": "01958349-e833-4c2e-b487-322ebf8494b3",
   "metadata": {},
   "outputs": [
    {
     "name": "stdout",
     "output_type": "stream",
     "text": [
      "После обратного заполнения (bfill):\n",
      "    Name   Age   Salary Department Joining Date\n",
      "0   John  28.0  70000.0         HR    1/15/2020\n",
      "1   Jane  34.0  80000.0    Finance    8/10/2019\n",
      "2  Alice  29.0  50000.0         IT    6/25/2021\n",
      "3    Bob  42.0  50000.0  Marketing   11/30/2020\n",
      "4    NaN  42.0  60000.0         IT   11/30/2020\n"
     ]
    },
    {
     "name": "stderr",
     "output_type": "stream",
     "text": [
      "/var/folders/q3/sf8my2hn2yzczkv_4yl7rgfc0000gn/T/ipykernel_29781/2076903762.py:2: FutureWarning: DataFrame.fillna with 'method' is deprecated and will raise in a future version. Use obj.ffill() or obj.bfill() instead.\n",
      "  df_bfill = df.fillna(method='bfill')\n"
     ]
    }
   ],
   "source": [
    "# Обратное заполнение (backward fill)\n",
    "df_bfill = df.fillna(method='bfill')\n",
    "print(\"После обратного заполнения (bfill):\")\n",
    "print(df_bfill)"
   ]
  },
  {
   "cell_type": "code",
   "execution_count": 10,
   "id": "566d7c45-971a-4618-9357-63635a6fa2e3",
   "metadata": {},
   "outputs": [
    {
     "name": "stdout",
     "output_type": "stream",
     "text": [
      "    Name   Age   Salary Joining Date  Age_min_max  Salary_min_max  \\\n",
      "0   John  28.0  70000.0    1/15/2020     0.000000        0.666667   \n",
      "1   Jane  34.0  80000.0    8/10/2019     0.428571        1.000000   \n",
      "2  Alice  29.0      NaN    6/25/2021     0.071429             NaN   \n",
      "3    Bob   NaN  50000.0          NaN          NaN        0.000000   \n",
      "4    NaN  42.0  60000.0   11/30/2020     1.000000        0.333333   \n",
      "\n",
      "   Age_z_score  Salary_z_score  Dept_Finance  Dept_HR  Dept_IT  \\\n",
      "0    -0.947717        0.447214         False     True    False   \n",
      "1     0.135388        1.341641          True    False    False   \n",
      "2    -0.767199             NaN         False    False     True   \n",
      "3          NaN       -1.341641         False    False    False   \n",
      "4     1.579528       -0.447214         False    False     True   \n",
      "\n",
      "   Dept_Marketing Age_binned  \n",
      "0           False      20-30  \n",
      "1           False      30-40  \n",
      "2           False      20-30  \n",
      "3            True        NaN  \n",
      "4           False      40-50  \n"
     ]
    }
   ],
   "source": [
    "from sklearn.preprocessing import MinMaxScaler, StandardScaler, OneHotEncoder\n",
    "\n",
    "min_max_scaler = MinMaxScaler()\n",
    "df[['Age_min_max', 'Salary_min_max']] = min_max_scaler.fit_transform(df[['Age', 'Salary']])\n",
    "\n",
    "z_score_scaler = StandardScaler()\n",
    "df[['Age_z_score', 'Salary_z_score']] = z_score_scaler.fit_transform(df[['Age', 'Salary']])\n",
    "\n",
    "\n",
    "df_one_hot = pd.get_dummies(df, columns=['Department'], prefix='Dept')\n",
    "\n",
    "\n",
    "bins = [20, 30, 40, 50, 60, 70]\n",
    "labels = ['20-30', '30-40', '40-50', '50-60', '60-70']\n",
    "df_one_hot['Age_binned'] = pd.cut(df_one_hot['Age'], bins=bins, labels=labels, right=False)\n",
    "\n",
    "\n",
    "print(df_one_hot)\n"
   ]
  },
  {
   "cell_type": "code",
   "execution_count": 14,
   "id": "f7760b73-bbb3-4a4a-a447-3babb97f0c3c",
   "metadata": {},
   "outputs": [
    {
     "name": "stdout",
     "output_type": "stream",
     "text": [
      "  Joining Date  Hire_Year  Hire_Month  Hire_Day  Hire_Weekday\n",
      "0   2020-01-15     2020.0         1.0      15.0           2.0\n",
      "1   2019-08-10     2019.0         8.0      10.0           5.0\n",
      "2   2021-06-25     2021.0         6.0      25.0           4.0\n",
      "3          NaT        NaN         NaN       NaN           NaN\n",
      "4   2020-11-30     2020.0        11.0      30.0           0.0\n"
     ]
    }
   ],
   "source": [
    "df['Joining Date'] = pd.to_datetime(df['Joining Date'], errors='coerce')\n",
    "\n",
    "# Извлечение года найма\n",
    "df['Hire_Year'] = df['Joining Date'].dt.year\n",
    "\n",
    "# Извлечение месяца найма\n",
    "df['Hire_Month'] = df['Joining Date'].dt.month\n",
    "\n",
    "# Извлечение дня найма\n",
    "df['Hire_Day'] = df['Joining Date'].dt.day\n",
    "\n",
    "# Извлечение дня недели найма (0 - понедельник, 6 - воскресенье)\n",
    "df['Hire_Weekday'] = df['Joining Date'].dt.weekday\n",
    "\n",
    "# Вывод первых строк с новыми признаками\n",
    "print(df[['Joining Date', 'Hire_Year', 'Hire_Month', 'Hire_Day', 'Hire_Weekday']].head())"
   ]
  },
  {
   "cell_type": "code",
   "execution_count": 15,
   "id": "49e180b4-7a1d-4f88-a3ba-ee5adf896dfc",
   "metadata": {},
   "outputs": [
    {
     "name": "stdout",
     "output_type": "stream",
     "text": [
      "После удаления дубликатов:\n",
      "    Name   Age   Salary Department Joining Date  Age_min_max  Salary_min_max  \\\n",
      "0   John  28.0  70000.0         HR   2020-01-15     0.000000        0.666667   \n",
      "1   Jane  34.0  80000.0    Finance   2019-08-10     0.428571        1.000000   \n",
      "2  Alice  29.0      NaN         IT   2021-06-25     0.071429             NaN   \n",
      "3    Bob   NaN  50000.0  Marketing          NaT          NaN        0.000000   \n",
      "4    NaN  42.0  60000.0         IT   2020-11-30     1.000000        0.333333   \n",
      "\n",
      "   Age_z_score  Salary_z_score  Hire_Year  Hire_Month  Hire_Day  Hire_Weekday  \n",
      "0    -0.947717        0.447214     2020.0         1.0      15.0           2.0  \n",
      "1     0.135388        1.341641     2019.0         8.0      10.0           5.0  \n",
      "2    -0.767199             NaN     2021.0         6.0      25.0           4.0  \n",
      "3          NaN       -1.341641        NaN         NaN       NaN           NaN  \n",
      "4     1.579528       -0.447214     2020.0        11.0      30.0           0.0  \n"
     ]
    }
   ],
   "source": [
    "# Удаление дубликатов строк\n",
    "df_cleaned = df.drop_duplicates()\n",
    "\n",
    "print(\"После удаления дубликатов:\")\n",
    "print(df_cleaned)\n"
   ]
  },
  {
   "cell_type": "code",
   "execution_count": 17,
   "id": "0ed3fa6b-d2c1-4aa9-a032-e0eaf7d81f5b",
   "metadata": {},
   "outputs": [
    {
     "name": "stdout",
     "output_type": "stream",
     "text": [
      "Размер тренировочного набора: (4, 12)\n",
      "Размер тестового набора: (1, 12)\n"
     ]
    }
   ],
   "source": [
    "from sklearn.model_selection import train_test_split\n",
    "\n",
    "# Используем исходный датафрейм df\n",
    "# Предположим, что целевая переменная — это \"Salary\", а остальные столбцы — это признаки (фичи)\n",
    "X = df.drop(columns=['Salary'])  # Признаки (фичи)\n",
    "y = df['Salary']  # Целевая переменная (зарплата)\n",
    "\n",
    "# Разделение данных на тренировочный и тестовый наборы (например, 80% на тренировку и 20% на тест)\n",
    "X_train, X_test, y_train, y_test = train_test_split(X, y, test_size=0.2, random_state=42)\n",
    "\n",
    "print(f\"Размер тренировочного набора: {X_train.shape}\")\n",
    "print(f\"Размер тестового набора: {X_test.shape}\")\n"
   ]
  },
  {
   "cell_type": "code",
   "execution_count": 19,
   "id": "390e2562-7a07-44eb-b0e7-96c499c94318",
   "metadata": {},
   "outputs": [
    {
     "name": "stdout",
     "output_type": "stream",
     "text": [
      "Разделение 70-30: MSE = 2.523798247135461\n",
      "Разделение 80-20: MSE = 2.6147980548680105\n"
     ]
    }
   ],
   "source": [
    "import numpy as np\n",
    "import pandas as pd\n",
    "from sklearn.model_selection import train_test_split\n",
    "from sklearn.linear_model import LinearRegression\n",
    "from sklearn.metrics import mean_squared_error\n",
    "\n",
    "# Пример данных\n",
    "# Создадим искусственный набор данных\n",
    "np.random.seed(42)\n",
    "X = np.random.rand(100, 1) * 10  # 100 образцов, 1 признак\n",
    "y = 3 * X.squeeze() + np.random.randn(100) * 2  # Линейная зависимость с шумом\n",
    "\n",
    "# Функция для оценки модели при разных разделениях\n",
    "def evaluate_model(test_size):\n",
    "    X_train, X_test, y_train, y_test = train_test_split(X, y, test_size=test_size, random_state=42)\n",
    "    \n",
    "    # Построение простой модели линейной регрессии\n",
    "    model = LinearRegression()\n",
    "    model.fit(X_train, y_train)\n",
    "    \n",
    "    # Предсказания на тестовом наборе\n",
    "    y_pred = model.predict(X_test)\n",
    "    \n",
    "    # Оценка модели с использованием среднеквадратичной ошибки (MSE)\n",
    "    mse = mean_squared_error(y_test, y_pred)\n",
    "    print(f\"Разделение {int((1 - test_size) * 100)}-{int(test_size * 100)}: MSE = {mse}\")\n",
    "\n",
    "# Проверка влияния разных пропорций (например, 70-30 и 80-20)\n",
    "evaluate_model(0.3)  # 70% обучение, 30% тест\n",
    "evaluate_model(0.2)  # 80% обучение, 20% тест\n",
    "\n"
   ]
  },
  {
   "cell_type": "code",
   "execution_count": 20,
   "id": "8f2aefdf-b3c1-473a-8a9f-0e65845b1dc0",
   "metadata": {},
   "outputs": [
    {
     "name": "stdout",
     "output_type": "stream",
     "text": [
      "Mean Squared Error: 8.187580045900676\n"
     ]
    }
   ],
   "source": [
    "import numpy as np\n",
    "import pandas as pd\n",
    "from sklearn.model_selection import train_test_split\n",
    "from sklearn.pipeline import Pipeline\n",
    "from sklearn.compose import ColumnTransformer\n",
    "from sklearn.impute import SimpleImputer\n",
    "from sklearn.preprocessing import StandardScaler, OneHotEncoder\n",
    "from sklearn.linear_model import LinearRegression\n",
    "from sklearn.metrics import mean_squared_error\n",
    "\n",
    "# Создание искусственного набора данных\n",
    "data = {\n",
    "    'feature_numeric': [1.0, 2.0, np.nan, 4.0, 5.0, 6.0, np.nan, 8.0, 9.0, 10.0],\n",
    "    'feature_categorical': ['A', 'B', 'B', 'A', np.nan, 'C', 'C', 'A', 'B', 'C'],\n",
    "    'target': [1.0, 2.0, 2.5, 4.0, 5.5, 6.0, 7.5, 8.0, 9.5, 10.0]\n",
    "}\n",
    "\n",
    "df = pd.DataFrame(data)\n",
    "\n",
    "# Определяем признаки и целевую переменную\n",
    "X = df.drop('target', axis=1)\n",
    "y = df['target']\n",
    "\n",
    "# Разделение данных на обучающую и тестовую выборки\n",
    "X_train, X_test, y_train, y_test = train_test_split(X, y, test_size=0.3, random_state=42)\n",
    "\n",
    "# Определяем числовые и категориальные признаки\n",
    "numeric_features = ['feature_numeric']\n",
    "categorical_features = ['feature_categorical']\n",
    "\n",
    "# Создаем преобразователь для предварительной обработки\n",
    "numeric_transformer = Pipeline(steps=[\n",
    "    ('imputer', SimpleImputer(strategy='mean')),  # Замена пропущенных значений средним\n",
    "    ('scaler', StandardScaler())  # Масштабирование\n",
    "])\n",
    "\n",
    "categorical_transformer = Pipeline(steps=[\n",
    "    ('imputer', SimpleImputer(strategy='constant', fill_value='missing')),  # Замена пропущенных значений\n",
    "    ('onehot', OneHotEncoder(handle_unknown='ignore'))  # Кодирование категориальных переменных\n",
    "])\n",
    "\n",
    "# Объединяем преобразователи\n",
    "preprocessor = ColumnTransformer(\n",
    "    transformers=[\n",
    "        ('num', numeric_transformer, numeric_features),\n",
    "        ('cat', categorical_transformer, categorical_features)\n",
    "    ])\n",
    "\n",
    "# Создаем окончательную модель с предварительной обработкой\n",
    "pipeline = Pipeline(steps=[\n",
    "    ('preprocessor', preprocessor),\n",
    "    ('model', LinearRegression())  # Выбор модели\n",
    "])\n",
    "\n",
    "# Обучение модели\n",
    "pipeline.fit(X_train, y_train)\n",
    "\n",
    "# Прогнозирование на тестовых данных\n",
    "y_pred = pipeline.predict(X_test)\n",
    "\n",
    "# Оценка модели\n",
    "mse = mean_squared_error(y_test, y_pred)\n",
    "print(f'Mean Squared Error: {mse}')\n"
   ]
  },
  {
   "cell_type": "code",
   "execution_count": null,
   "id": "a5868fd2-86f8-49a9-90f9-0d18ddfe4a20",
   "metadata": {},
   "outputs": [],
   "source": []
  }
 ],
 "metadata": {
  "kernelspec": {
   "display_name": "Python 3 (ipykernel)",
   "language": "python",
   "name": "python3"
  },
  "language_info": {
   "codemirror_mode": {
    "name": "ipython",
    "version": 3
   },
   "file_extension": ".py",
   "mimetype": "text/x-python",
   "name": "python",
   "nbconvert_exporter": "python",
   "pygments_lexer": "ipython3",
   "version": "3.11.5"
  }
 },
 "nbformat": 4,
 "nbformat_minor": 5
}
